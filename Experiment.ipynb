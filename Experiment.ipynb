{
 "cells": [
  {
   "cell_type": "markdown",
   "execution_count": null,
   "metadata": {},
   "outputs": [],
   "source": [
    "# Recommendation Service Experiment\n",
    "\n",
    "#### Goal\n",
    "Create a microservice that can recommend 4-5 other students to a student tailored to them and one that would ensure that the resulting squad is a good fit.\n",
    "First we consider what makes someone a \"good\" match. For this we will ask students to select a list of **Interests** (such as music, sports, fintech) and a list of \n",
    "**Skills** (such as C++, React, ML) A good squad can be considered to be a group of students with similar interests yet diverse skills.\n",
    "\n",
    "#### Problem statement\n",
    "A student can choose any number of interests or skills and we need to determine a way to measure similarity between two students. There can be many permutations of matching interests and varying skills but our algorithm needs to choose the relatively \"top 5\" ones.\n",
    "\n",
    "#### Approach\n",
    "Parse the list of interests/skills as feature vectors where presence of a category is represented by 1 and absense by 0. These will resemble a n-dimensional vectors that can be used to measure the angle between them. Smaller angle means more similarity and vice versa. Calculating the angle isn't necessary, in fact a dot product can be used to represent the same thing."
   ]
  },
  {
   "cell_type": "code",
   "execution_count": 2,
   "metadata": {},
   "outputs": [
    {
     "data": {
      "text/html": "<div>\n<style scoped>\n    .dataframe tbody tr th:only-of-type {\n        vertical-align: middle;\n    }\n\n    .dataframe tbody tr th {\n        vertical-align: top;\n    }\n\n    .dataframe thead th {\n        text-align: right;\n    }\n</style>\n<table border=\"1\" class=\"dataframe\">\n  <thead>\n    <tr style=\"text-align: right;\">\n      <th></th>\n      <th>name</th>\n      <th>webdev</th>\n      <th>ai</th>\n      <th>robotics</th>\n      <th>nlp</th>\n      <th>bot</th>\n      <th>fintech</th>\n      <th>music</th>\n      <th>iot</th>\n      <th>biomedical</th>\n      <th>education</th>\n      <th>environment</th>\n      <th>fitness</th>\n      <th>vr</th>\n      <th>blockchain</th>\n      <th>gaming</th>\n      <th>hardware</th>\n      <th>research</th>\n    </tr>\n  </thead>\n  <tbody>\n    <tr>\n      <td>0</td>\n      <td>Emma</td>\n      <td>0</td>\n      <td>0</td>\n      <td>1</td>\n      <td>0</td>\n      <td>1</td>\n      <td>0</td>\n      <td>0</td>\n      <td>1</td>\n      <td>0</td>\n      <td>0</td>\n      <td>0</td>\n      <td>1</td>\n      <td>1</td>\n      <td>1</td>\n      <td>0</td>\n      <td>1</td>\n      <td>0</td>\n    </tr>\n    <tr>\n      <td>1</td>\n      <td>Noah</td>\n      <td>0</td>\n      <td>1</td>\n      <td>1</td>\n      <td>1</td>\n      <td>1</td>\n      <td>0</td>\n      <td>0</td>\n      <td>0</td>\n      <td>1</td>\n      <td>0</td>\n      <td>1</td>\n      <td>1</td>\n      <td>0</td>\n      <td>1</td>\n      <td>0</td>\n      <td>1</td>\n      <td>0</td>\n    </tr>\n    <tr>\n      <td>2</td>\n      <td>William</td>\n      <td>0</td>\n      <td>1</td>\n      <td>1</td>\n      <td>1</td>\n      <td>1</td>\n      <td>0</td>\n      <td>1</td>\n      <td>1</td>\n      <td>1</td>\n      <td>0</td>\n      <td>1</td>\n      <td>0</td>\n      <td>0</td>\n      <td>1</td>\n      <td>1</td>\n      <td>0</td>\n      <td>1</td>\n    </tr>\n    <tr>\n      <td>3</td>\n      <td>James</td>\n      <td>1</td>\n      <td>1</td>\n      <td>0</td>\n      <td>1</td>\n      <td>0</td>\n      <td>1</td>\n      <td>0</td>\n      <td>0</td>\n      <td>0</td>\n      <td>1</td>\n      <td>0</td>\n      <td>1</td>\n      <td>0</td>\n      <td>0</td>\n      <td>0</td>\n      <td>1</td>\n      <td>0</td>\n    </tr>\n    <tr>\n      <td>4</td>\n      <td>Oliver</td>\n      <td>0</td>\n      <td>1</td>\n      <td>1</td>\n      <td>0</td>\n      <td>0</td>\n      <td>1</td>\n      <td>1</td>\n      <td>0</td>\n      <td>0</td>\n      <td>0</td>\n      <td>1</td>\n      <td>1</td>\n      <td>0</td>\n      <td>0</td>\n      <td>0</td>\n      <td>0</td>\n      <td>0</td>\n    </tr>\n  </tbody>\n</table>\n</div>",
      "text/plain": "      name  webdev  ai  robotics  nlp  bot  fintech  music  iot  biomedical  \\\n0     Emma       0   0         1    0    1        0      0    1           0   \n1     Noah       0   1         1    1    1        0      0    0           1   \n2  William       0   1         1    1    1        0      1    1           1   \n3    James       1   1         0    1    0        1      0    0           0   \n4   Oliver       0   1         1    0    0        1      1    0           0   \n\n   education  environment  fitness  vr  blockchain  gaming  hardware  research  \n0          0            0        1   1           1       0         1         0  \n1          0            1        1   0           1       0         1         0  \n2          0            1        0   0           1       1         0         1  \n3          1            0        1   0           0       0         1         0  \n4          0            1        1   0           0       0         0         0  "
     },
     "execution_count": 2,
     "metadata": {},
     "output_type": "execute_result"
    }
   ],
   "source": [
    "#The following example just shows getting top 10 most similar students based on matching interests\n",
    "import pandas as pd\n",
    "import numpy as np\n",
    "\n",
    "# Pull 300 random seeded user data\n",
    "dataset = pd.read_csv(\"data_v2.csv\")\n",
    "dataset.head()"
   ]
  },
  {
   "cell_type": "code",
   "execution_count": 3,
   "metadata": {},
   "outputs": [
    {
     "data": {
      "text/plain": "name           Emma\nwebdev            0\nai                0\nrobotics          1\nnlp               0\nbot               1\nfintech           0\nmusic             0\niot               1\nbiomedical        0\neducation         0\nenvironment       0\nfitness           1\nvr                1\nblockchain        1\ngaming            0\nhardware          1\nresearch          0\nName: 0, dtype: object"
     },
     "execution_count": 3,
     "metadata": {},
     "output_type": "execute_result"
    }
   ],
   "source": [
    "# Each row represents a student with boolean vals representing which interest they have (1) or not (0)\n",
    "dataset.iloc[0]"
   ]
  },
  {
   "cell_type": "code",
   "execution_count": 4,
   "metadata": {},
   "outputs": [],
   "source": [
    "emma_np = dataset.iloc[0].to_numpy().copy()[1:,] # We need to convert the DataFrame to a numpy arr and also get a feature vec"
   ]
  },
  {
   "cell_type": "code",
   "execution_count": 5,
   "metadata": {},
   "outputs": [
    {
     "data": {
      "text/plain": "7"
     },
     "execution_count": 5,
     "metadata": {},
     "output_type": "execute_result"
    }
   ],
   "source": [
    "# Determine total num of interests Emma does have\n",
    "totalInterests = len(emma_np[emma_np == 1])\n",
    "totalInterests"
   ]
  },
  {
   "cell_type": "code",
   "execution_count": 6,
   "metadata": {},
   "outputs": [
    {
     "name": "stdout",
     "output_type": "stream",
     "text": "Wall time: 53 ms\n"
    }
   ],
   "source": [
    "%%time\n",
    "# Running through around 300 users we get a similarity score between their interest and our target user's in this\n",
    "# case: Emma. From 0 - 100, higher score means greater similarity.\n",
    "def getScore(userTuple):\n",
    "    return userTuple[1]\n",
    "\n",
    "match = []\n",
    "score_list = []\n",
    "for index, row in dataset.iterrows():\n",
    "    interest_vec = row.to_numpy()[1:,]\n",
    "    sim_score = np.dot(emma_np, interest_vec) / totalInterests * 100\n",
    "    score_list.append((row['name'], sim_score))\n",
    "    if sim_score == 100.0:\n",
    "        match.append(index)\n",
    "#     print(row['name'], ': ', sim_score)\n",
    "\n",
    "score_list.sort(key=getScore, reverse=True)\n",
    "recommendation_result = score_list[0:11] # Top 10 most similar students + Emma herself"
   ]
  },
  {
   "cell_type": "code",
   "execution_count": 7,
   "metadata": {},
   "outputs": [
    {
     "data": {
      "text/plain": "[('Emma', 100.0),\n ('Jude', 100.0),\n ('Maximiliano', 100.0),\n ('Daxton', 100.0),\n ('Grace', 85.71428571428571),\n ('Juan', 85.71428571428571),\n ('Bryce', 85.71428571428571),\n ('Andres', 85.71428571428571),\n ('Karson', 85.71428571428571),\n ('Noah', 71.42857142857143),\n ('Daniel', 71.42857142857143)]"
     },
     "execution_count": 7,
     "metadata": {},
     "output_type": "execute_result"
    }
   ],
   "source": [
    "# The following are students who matched most with Emma's interests (including Emma obviously)\n",
    "recommendation_result"
   ]
  },
  {
   "cell_type": "code",
   "execution_count": 10,
   "metadata": {},
   "outputs": [
    {
     "data": {
      "text/html": "<div>\n<style scoped>\n    .dataframe tbody tr th:only-of-type {\n        vertical-align: middle;\n    }\n\n    .dataframe tbody tr th {\n        vertical-align: top;\n    }\n\n    .dataframe thead th {\n        text-align: right;\n    }\n</style>\n<table border=\"1\" class=\"dataframe\">\n  <thead>\n    <tr style=\"text-align: right;\">\n      <th></th>\n      <th>name</th>\n      <th>webdev</th>\n      <th>ai</th>\n      <th>robotics</th>\n      <th>nlp</th>\n      <th>bot</th>\n      <th>fintech</th>\n      <th>music</th>\n      <th>iot</th>\n      <th>biomedical</th>\n      <th>education</th>\n      <th>environment</th>\n      <th>fitness</th>\n      <th>vr</th>\n      <th>blockchain</th>\n      <th>gaming</th>\n      <th>hardware</th>\n      <th>research</th>\n    </tr>\n  </thead>\n  <tbody>\n    <tr>\n      <td>0</td>\n      <td>Emma</td>\n      <td>0</td>\n      <td>0</td>\n      <td>1</td>\n      <td>0</td>\n      <td>1</td>\n      <td>0</td>\n      <td>0</td>\n      <td>1</td>\n      <td>0</td>\n      <td>0</td>\n      <td>0</td>\n      <td>1</td>\n      <td>1</td>\n      <td>1</td>\n      <td>0</td>\n      <td>1</td>\n      <td>0</td>\n    </tr>\n    <tr>\n      <td>148</td>\n      <td>Jude</td>\n      <td>1</td>\n      <td>1</td>\n      <td>1</td>\n      <td>1</td>\n      <td>1</td>\n      <td>1</td>\n      <td>0</td>\n      <td>1</td>\n      <td>1</td>\n      <td>1</td>\n      <td>1</td>\n      <td>1</td>\n      <td>1</td>\n      <td>1</td>\n      <td>1</td>\n      <td>1</td>\n      <td>0</td>\n    </tr>\n    <tr>\n      <td>258</td>\n      <td>Maximiliano</td>\n      <td>0</td>\n      <td>1</td>\n      <td>1</td>\n      <td>1</td>\n      <td>1</td>\n      <td>0</td>\n      <td>0</td>\n      <td>1</td>\n      <td>1</td>\n      <td>1</td>\n      <td>1</td>\n      <td>1</td>\n      <td>1</td>\n      <td>1</td>\n      <td>1</td>\n      <td>1</td>\n      <td>1</td>\n    </tr>\n    <tr>\n      <td>287</td>\n      <td>Daxton</td>\n      <td>1</td>\n      <td>0</td>\n      <td>1</td>\n      <td>1</td>\n      <td>1</td>\n      <td>0</td>\n      <td>1</td>\n      <td>1</td>\n      <td>1</td>\n      <td>0</td>\n      <td>0</td>\n      <td>1</td>\n      <td>1</td>\n      <td>1</td>\n      <td>0</td>\n      <td>1</td>\n      <td>0</td>\n    </tr>\n  </tbody>\n</table>\n</div>",
      "text/plain": "            name  webdev  ai  robotics  nlp  bot  fintech  music  iot  \\\n0           Emma       0   0         1    0    1        0      0    1   \n148         Jude       1   1         1    1    1        1      0    1   \n258  Maximiliano       0   1         1    1    1        0      0    1   \n287       Daxton       1   0         1    1    1        0      1    1   \n\n     biomedical  education  environment  fitness  vr  blockchain  gaming  \\\n0             0          0            0        1   1           1       0   \n148           1          1            1        1   1           1       1   \n258           1          1            1        1   1           1       1   \n287           1          0            0        1   1           1       0   \n\n     hardware  research  \n0           1         0  \n148         1         0  \n258         1         1  \n287         1         0  "
     },
     "execution_count": 10,
     "metadata": {},
     "output_type": "execute_result"
    }
   ],
   "source": [
    "# Looking up the op 3 matches a bit closely we can see the algo selected users with interests that matched (not necessarily exactly) with Emma\n",
    "dataset.loc[(dataset['name'] == 'Emma') | (dataset['name'] == 'Jude') | (dataset['name'] == 'Maximiliano') | (dataset['name'] == 'Daxton')]"
   ]
  },
  {
   "cell_type": "code",
   "execution_count": null,
   "metadata": {},
   "outputs": [],
   "source": []
  }
 ],
 "metadata": {
  "kernelspec": {
   "display_name": "Python 3",
   "language": "python",
   "name": "python3"
  },
  "language_info": {
   "codemirror_mode": {
    "name": "ipython",
    "version": 3
   },
   "file_extension": ".py",
   "mimetype": "text/x-python",
   "name": "python",
   "nbconvert_exporter": "python",
   "pygments_lexer": "ipython3",
   "version": "3.7.4-final"
  }
 },
 "nbformat": 4,
 "nbformat_minor": 2
}
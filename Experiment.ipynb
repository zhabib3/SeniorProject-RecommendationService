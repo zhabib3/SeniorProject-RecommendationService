{
 "cells": [
  {
   "cell_type": "code",
   "execution_count": 1,
   "metadata": {},
   "outputs": [
    {
     "data": {
      "text/html": [
       "<div>\n",
       "<style scoped>\n",
       "    .dataframe tbody tr th:only-of-type {\n",
       "        vertical-align: middle;\n",
       "    }\n",
       "\n",
       "    .dataframe tbody tr th {\n",
       "        vertical-align: top;\n",
       "    }\n",
       "\n",
       "    .dataframe thead th {\n",
       "        text-align: right;\n",
       "    }\n",
       "</style>\n",
       "<table border=\"1\" class=\"dataframe\">\n",
       "  <thead>\n",
       "    <tr style=\"text-align: right;\">\n",
       "      <th></th>\n",
       "      <th>name</th>\n",
       "      <th>webdev</th>\n",
       "      <th>ai</th>\n",
       "      <th>robotics</th>\n",
       "      <th>nlp</th>\n",
       "      <th>bot</th>\n",
       "      <th>fintech</th>\n",
       "      <th>music</th>\n",
       "      <th>iot</th>\n",
       "      <th>biomedical</th>\n",
       "      <th>education</th>\n",
       "      <th>environment</th>\n",
       "      <th>fitness</th>\n",
       "      <th>vr</th>\n",
       "      <th>blockchain</th>\n",
       "      <th>gaming</th>\n",
       "      <th>hardware</th>\n",
       "      <th>research</th>\n",
       "    </tr>\n",
       "  </thead>\n",
       "  <tbody>\n",
       "    <tr>\n",
       "      <td>0</td>\n",
       "      <td>Emma</td>\n",
       "      <td>0</td>\n",
       "      <td>0</td>\n",
       "      <td>1</td>\n",
       "      <td>0</td>\n",
       "      <td>1</td>\n",
       "      <td>0</td>\n",
       "      <td>0</td>\n",
       "      <td>1</td>\n",
       "      <td>0</td>\n",
       "      <td>0</td>\n",
       "      <td>0</td>\n",
       "      <td>1</td>\n",
       "      <td>1</td>\n",
       "      <td>1</td>\n",
       "      <td>0</td>\n",
       "      <td>1</td>\n",
       "      <td>0</td>\n",
       "    </tr>\n",
       "    <tr>\n",
       "      <td>1</td>\n",
       "      <td>Noah</td>\n",
       "      <td>0</td>\n",
       "      <td>1</td>\n",
       "      <td>1</td>\n",
       "      <td>1</td>\n",
       "      <td>1</td>\n",
       "      <td>0</td>\n",
       "      <td>0</td>\n",
       "      <td>0</td>\n",
       "      <td>1</td>\n",
       "      <td>0</td>\n",
       "      <td>1</td>\n",
       "      <td>1</td>\n",
       "      <td>0</td>\n",
       "      <td>1</td>\n",
       "      <td>0</td>\n",
       "      <td>1</td>\n",
       "      <td>0</td>\n",
       "    </tr>\n",
       "    <tr>\n",
       "      <td>2</td>\n",
       "      <td>William</td>\n",
       "      <td>0</td>\n",
       "      <td>1</td>\n",
       "      <td>1</td>\n",
       "      <td>1</td>\n",
       "      <td>1</td>\n",
       "      <td>0</td>\n",
       "      <td>1</td>\n",
       "      <td>1</td>\n",
       "      <td>1</td>\n",
       "      <td>0</td>\n",
       "      <td>1</td>\n",
       "      <td>0</td>\n",
       "      <td>0</td>\n",
       "      <td>1</td>\n",
       "      <td>1</td>\n",
       "      <td>0</td>\n",
       "      <td>1</td>\n",
       "    </tr>\n",
       "    <tr>\n",
       "      <td>3</td>\n",
       "      <td>James</td>\n",
       "      <td>1</td>\n",
       "      <td>1</td>\n",
       "      <td>0</td>\n",
       "      <td>1</td>\n",
       "      <td>0</td>\n",
       "      <td>1</td>\n",
       "      <td>0</td>\n",
       "      <td>0</td>\n",
       "      <td>0</td>\n",
       "      <td>1</td>\n",
       "      <td>0</td>\n",
       "      <td>1</td>\n",
       "      <td>0</td>\n",
       "      <td>0</td>\n",
       "      <td>0</td>\n",
       "      <td>1</td>\n",
       "      <td>0</td>\n",
       "    </tr>\n",
       "    <tr>\n",
       "      <td>4</td>\n",
       "      <td>Oliver</td>\n",
       "      <td>0</td>\n",
       "      <td>1</td>\n",
       "      <td>1</td>\n",
       "      <td>0</td>\n",
       "      <td>0</td>\n",
       "      <td>1</td>\n",
       "      <td>1</td>\n",
       "      <td>0</td>\n",
       "      <td>0</td>\n",
       "      <td>0</td>\n",
       "      <td>1</td>\n",
       "      <td>1</td>\n",
       "      <td>0</td>\n",
       "      <td>0</td>\n",
       "      <td>0</td>\n",
       "      <td>0</td>\n",
       "      <td>0</td>\n",
       "    </tr>\n",
       "  </tbody>\n",
       "</table>\n",
       "</div>"
      ],
      "text/plain": [
       "      name  webdev  ai  robotics  nlp  bot  fintech  music  iot  biomedical  \\\n",
       "0     Emma       0   0         1    0    1        0      0    1           0   \n",
       "1     Noah       0   1         1    1    1        0      0    0           1   \n",
       "2  William       0   1         1    1    1        0      1    1           1   \n",
       "3    James       1   1         0    1    0        1      0    0           0   \n",
       "4   Oliver       0   1         1    0    0        1      1    0           0   \n",
       "\n",
       "   education  environment  fitness  vr  blockchain  gaming  hardware  research  \n",
       "0          0            0        1   1           1       0         1         0  \n",
       "1          0            1        1   0           1       0         1         0  \n",
       "2          0            1        0   0           1       1         0         1  \n",
       "3          1            0        1   0           0       0         1         0  \n",
       "4          0            1        1   0           0       0         0         0  "
      ]
     },
     "execution_count": 1,
     "metadata": {},
     "output_type": "execute_result"
    }
   ],
   "source": [
    "import pandas as pd\n",
    "import numpy as np\n",
    "\n",
    "# Pull 100 random seeded user data\n",
    "dataset = pd.read_csv(\"data_v2.csv\")\n",
    "dataset.head()"
   ]
  },
  {
   "cell_type": "code",
   "execution_count": 2,
   "metadata": {},
   "outputs": [
    {
     "data": {
      "text/plain": [
       "name           Emma\n",
       "webdev            0\n",
       "ai                0\n",
       "robotics          1\n",
       "nlp               0\n",
       "bot               1\n",
       "fintech           0\n",
       "music             0\n",
       "iot               1\n",
       "biomedical        0\n",
       "education         0\n",
       "environment       0\n",
       "fitness           1\n",
       "vr                1\n",
       "blockchain        1\n",
       "gaming            0\n",
       "hardware          1\n",
       "research          0\n",
       "Name: 0, dtype: object"
      ]
     },
     "execution_count": 2,
     "metadata": {},
     "output_type": "execute_result"
    }
   ],
   "source": [
    "# Each row represents a student with boolean vals representing which interest they have (1) or not (0)\n",
    "dataset.iloc[0]"
   ]
  },
  {
   "cell_type": "code",
   "execution_count": 3,
   "metadata": {},
   "outputs": [],
   "source": [
    "emma_np = dataset.iloc[0].to_numpy().copy()[1:,] # We need to convert the DataFrame to a numpy arr and also get a feature vec"
   ]
  },
  {
   "cell_type": "code",
   "execution_count": 8,
   "metadata": {},
   "outputs": [
    {
     "name": "stdout",
     "output_type": "stream",
     "text": [
      "Wall time: 0 ns\n"
     ]
    },
    {
     "data": {
      "text/plain": [
       "7"
      ]
     },
     "execution_count": 8,
     "metadata": {},
     "output_type": "execute_result"
    }
   ],
   "source": [
    "# Determine total num of interests Emma does have\n",
    "totalInterests = len(emma_np[emma_np == 1])\n",
    "totalInterests"
   ]
  },
  {
   "cell_type": "code",
   "execution_count": 38,
   "metadata": {},
   "outputs": [
    {
     "name": "stdout",
     "output_type": "stream",
     "text": [
      "Wall time: 39 ms\n"
     ]
    }
   ],
   "source": [
    "%%time\n",
    "# Running through around 300 users we get a similarity score between their interest and our target user's in this\n",
    "# case: Emma. From 0 - 100, higher score means greater similarity.\n",
    "def getScore(userTuple):\n",
    "    return userTuple[1]\n",
    "\n",
    "match = []\n",
    "score_list = []\n",
    "for index, row in dataset.iterrows():\n",
    "    interest_vec = row.to_numpy()[1:,]\n",
    "    sim_score = np.dot(emma_np, interest_vec) / totalInterests * 100\n",
    "    score_list.append((row['name'], sim_score))\n",
    "    if sim_score == 100.0:\n",
    "        match.append(index)\n",
    "#     print(row['name'], ': ', sim_score)\n",
    "\n",
    "score_list.sort(key=getScore, reverse=True)\n",
    "recommendation_result = score_list[0:11] # Top 10 most similar students + Emma herself"
   ]
  },
  {
   "cell_type": "code",
   "execution_count": 39,
   "metadata": {},
   "outputs": [
    {
     "data": {
      "text/plain": [
       "[('Emma', 100.0),\n",
       " ('Jude', 100.0),\n",
       " ('Maximiliano', 100.0),\n",
       " ('Daxton', 100.0),\n",
       " ('Grace', 85.71428571428571),\n",
       " ('Juan', 85.71428571428571),\n",
       " ('Bryce', 85.71428571428571),\n",
       " ('Andres', 85.71428571428571),\n",
       " ('Karson', 85.71428571428571),\n",
       " ('Noah', 71.42857142857143),\n",
       " ('Daniel', 71.42857142857143)]"
      ]
     },
     "execution_count": 39,
     "metadata": {},
     "output_type": "execute_result"
    }
   ],
   "source": [
    "# The following are students who matched most with Emma's interests (including Emma obviously)\n",
    "recommendation_result"
   ]
  },
  {
   "cell_type": "code",
   "execution_count": 45,
   "metadata": {},
   "outputs": [
    {
     "data": {
      "text/html": [
       "<div>\n",
       "<style scoped>\n",
       "    .dataframe tbody tr th:only-of-type {\n",
       "        vertical-align: middle;\n",
       "    }\n",
       "\n",
       "    .dataframe tbody tr th {\n",
       "        vertical-align: top;\n",
       "    }\n",
       "\n",
       "    .dataframe thead th {\n",
       "        text-align: right;\n",
       "    }\n",
       "</style>\n",
       "<table border=\"1\" class=\"dataframe\">\n",
       "  <thead>\n",
       "    <tr style=\"text-align: right;\">\n",
       "      <th></th>\n",
       "      <th>name</th>\n",
       "      <th>webdev</th>\n",
       "      <th>ai</th>\n",
       "      <th>robotics</th>\n",
       "      <th>nlp</th>\n",
       "      <th>bot</th>\n",
       "      <th>fintech</th>\n",
       "      <th>music</th>\n",
       "      <th>iot</th>\n",
       "      <th>biomedical</th>\n",
       "      <th>education</th>\n",
       "      <th>environment</th>\n",
       "      <th>fitness</th>\n",
       "      <th>vr</th>\n",
       "      <th>blockchain</th>\n",
       "      <th>gaming</th>\n",
       "      <th>hardware</th>\n",
       "      <th>research</th>\n",
       "    </tr>\n",
       "  </thead>\n",
       "  <tbody>\n",
       "    <tr>\n",
       "      <td>148</td>\n",
       "      <td>Jude</td>\n",
       "      <td>1</td>\n",
       "      <td>1</td>\n",
       "      <td>1</td>\n",
       "      <td>1</td>\n",
       "      <td>1</td>\n",
       "      <td>1</td>\n",
       "      <td>0</td>\n",
       "      <td>1</td>\n",
       "      <td>1</td>\n",
       "      <td>1</td>\n",
       "      <td>1</td>\n",
       "      <td>1</td>\n",
       "      <td>1</td>\n",
       "      <td>1</td>\n",
       "      <td>1</td>\n",
       "      <td>1</td>\n",
       "      <td>0</td>\n",
       "    </tr>\n",
       "    <tr>\n",
       "      <td>256</td>\n",
       "      <td>Karson</td>\n",
       "      <td>0</td>\n",
       "      <td>1</td>\n",
       "      <td>1</td>\n",
       "      <td>0</td>\n",
       "      <td>1</td>\n",
       "      <td>0</td>\n",
       "      <td>1</td>\n",
       "      <td>1</td>\n",
       "      <td>0</td>\n",
       "      <td>1</td>\n",
       "      <td>1</td>\n",
       "      <td>0</td>\n",
       "      <td>1</td>\n",
       "      <td>1</td>\n",
       "      <td>0</td>\n",
       "      <td>1</td>\n",
       "      <td>1</td>\n",
       "    </tr>\n",
       "  </tbody>\n",
       "</table>\n",
       "</div>"
      ],
      "text/plain": [
       "       name  webdev  ai  robotics  nlp  bot  fintech  music  iot  biomedical  \\\n",
       "148    Jude       1   1         1    1    1        1      0    1           1   \n",
       "256  Karson       0   1         1    0    1        0      1    1           0   \n",
       "\n",
       "     education  environment  fitness  vr  blockchain  gaming  hardware  \\\n",
       "148          1            1        1   1           1       1         1   \n",
       "256          1            1        0   1           1       0         1   \n",
       "\n",
       "     research  \n",
       "148         0  \n",
       "256         1  "
      ]
     },
     "execution_count": 45,
     "metadata": {},
     "output_type": "execute_result"
    }
   ],
   "source": [
    "for i in range(5)\n",
    "dataset.loc[(dataset['name'] == 'Jude') | (dataset['name'] == 'Karson')]"
   ]
  },
  {
   "cell_type": "code",
   "execution_count": null,
   "metadata": {},
   "outputs": [],
   "source": []
  }
 ],
 "metadata": {
  "kernelspec": {
   "display_name": "Python 3",
   "language": "python",
   "name": "python3"
  },
  "language_info": {
   "codemirror_mode": {
    "name": "ipython",
    "version": 3
   },
   "file_extension": ".py",
   "mimetype": "text/x-python",
   "name": "python",
   "nbconvert_exporter": "python",
   "pygments_lexer": "ipython3",
   "version": "3.7.4"
  }
 },
 "nbformat": 4,
 "nbformat_minor": 2
}
